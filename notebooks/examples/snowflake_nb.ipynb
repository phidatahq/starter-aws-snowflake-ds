{
 "cells": [
  {
   "cell_type": "code",
   "execution_count": null,
   "id": "b407a73c-32ac-43d0-90a9-ebda9833becd",
   "metadata": {},
   "outputs": [],
   "source": [
    "from os import getenv\n",
    "from typing import List\n",
    "\n",
    "import pandas as pd\n",
    "import snowflake.connector\n",
    "\n",
    "SNOWFLAKE_USER = getenv(\"SNOWFLAKE_USER\", None)\n",
    "SNOWFLAKE_PASS = getenv(\"SNOWFLAKE_PASS\", None)\n",
    "SNOWFLAKE_ACCOUNT = getenv(\"SNOWFLAKE_ACCOUNT\", None)\n",
    "SNOWFLAKE_WAREHOUSE = getenv(\"SNOWFLAKE_WAREHOUSE\", None)\n",
    "SNOWFLAKE_DATABASE = getenv(\"SNOWFLAKE_DATABASE\", None)\n",
    "\n",
    "# Create a snowflake connection\n",
    "snow_conn = snowflake.connector.connect(\n",
    "    user=SNOWFLAKE_USER,\n",
    "    password=SNOWFLAKE_PASS,\n",
    "    account=SNOWFLAKE_ACCOUNT,\n",
    "    warehouse=SNOWFLAKE_WAREHOUSE,\n",
    "    database=SNOWFLAKE_DATABASE,\n",
    "    session_parameters={\n",
    "        \"QUERY_TAG\": \"TestQueries\",\n",
    "    },\n",
    ")\n",
    "snowflake = snow_conn.cursor()"
   ]
  },
  {
   "cell_type": "code",
   "execution_count": null,
   "id": "de9e3071-fa11-4216-8ed8-b5c56eb98997",
   "metadata": {},
   "outputs": [],
   "source": [
    "# Get snowflake version\n",
    "snowflake.execute(\"SELECT current_version()\")\n",
    "one_row = snowflake.fetchone()\n",
    "print(f\"Snowflake Version: {one_row[0]}\")"
   ]
  },
  {
   "cell_type": "code",
   "execution_count": null,
   "id": "6b3f3c77-3d61-43e8-8b31-c5b1c160cc93",
   "metadata": {},
   "outputs": [],
   "source": [
    "snowflake.execute(\"SELECT C_CUSTKEY, C_NAME FROM TPCH_SF1.customer LIMIT 10\")\n",
    "dataframes: List[pd.DataFrame] = snowflake.fetch_pandas_batches()\n",
    "\n",
    "for idx, df in enumerate(dataframes, 1):\n",
    "    print(f\"\\nBatch Number: {idx}\\n\")\n",
    "    print(df)"
   ]
  },
  {
   "cell_type": "code",
   "execution_count": null,
   "id": "15254f68-7de5-4523-838d-560685061330",
   "metadata": {},
   "outputs": [],
   "source": [
    "snowflake.close()\n",
    "snow_conn.close()"
   ]
  },
  {
   "cell_type": "code",
   "execution_count": null,
   "id": "659bf5ce-3402-4e00-a99f-dd08a0b0ca96",
   "metadata": {},
   "outputs": [],
   "source": []
  }
 ],
 "metadata": {
  "kernelspec": {
   "display_name": "Python 3.9.12 ('dpenv')",
   "language": "python",
   "name": "python3"
  },
  "language_info": {
   "codemirror_mode": {
    "name": "ipython",
    "version": 3
   },
   "file_extension": ".py",
   "mimetype": "text/x-python",
   "name": "python",
   "nbconvert_exporter": "python",
   "pygments_lexer": "ipython3",
   "version": "3.9.12"
  },
  "vscode": {
   "interpreter": {
    "hash": "ef3cc135c88643b73cb86ebf052b5080a3f1657beeac7bdc53483195d594c301"
   }
  }
 },
 "nbformat": 4,
 "nbformat_minor": 5
}
